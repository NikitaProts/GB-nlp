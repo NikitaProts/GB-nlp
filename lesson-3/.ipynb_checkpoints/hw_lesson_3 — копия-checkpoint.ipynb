{
 "cells": [
  {
   "cell_type": "code",
   "execution_count": 1,
   "id": "fbcd6666",
   "metadata": {},
   "outputs": [],
   "source": [
    "import pandas as pd\n",
    "import numpy as np\n",
    "import re"
   ]
  },
  {
   "cell_type": "code",
   "execution_count": 2,
   "id": "6ddf8e52",
   "metadata": {},
   "outputs": [],
   "source": [
    "df = pd.read_json(\"data.json\")"
   ]
  },
  {
   "cell_type": "code",
   "execution_count": 3,
   "id": "a05cc5a2",
   "metadata": {},
   "outputs": [
    {
     "data": {
      "text/html": [
       "<div>\n",
       "<style scoped>\n",
       "    .dataframe tbody tr th:only-of-type {\n",
       "        vertical-align: middle;\n",
       "    }\n",
       "\n",
       "    .dataframe tbody tr th {\n",
       "        vertical-align: top;\n",
       "    }\n",
       "\n",
       "    .dataframe thead th {\n",
       "        text-align: right;\n",
       "    }\n",
       "</style>\n",
       "<table border=\"1\" class=\"dataframe\">\n",
       "  <thead>\n",
       "    <tr style=\"text-align: right;\">\n",
       "      <th></th>\n",
       "      <th>author</th>\n",
       "      <th>book</th>\n",
       "      <th>text</th>\n",
       "      <th>url</th>\n",
       "    </tr>\n",
       "  </thead>\n",
       "  <tbody>\n",
       "    <tr>\n",
       "      <th>0</th>\n",
       "      <td>Александр Онисимович Аблесимов</td>\n",
       "      <td>Мельник — колдун, обманщик и сват</td>\n",
       "      <td>На краю леса перед мельницей мельник Фаддей ст...</td>\n",
       "      <td>https://briefly.ru/ablesimov/melnik_koldun_obm...</td>\n",
       "    </tr>\n",
       "    <tr>\n",
       "      <th>1</th>\n",
       "      <td>Кобо Абэ</td>\n",
       "      <td>Женщина в песках</td>\n",
       "      <td>Однажды в августе человек отправляется в трехд...</td>\n",
       "      <td>https://briefly.ru/abe/zhencshina_v_peskah/</td>\n",
       "    </tr>\n",
       "    <tr>\n",
       "      <th>2</th>\n",
       "      <td>Кобо Абэ</td>\n",
       "      <td>Чужое лицо</td>\n",
       "      <td>Исследователь, заведующий лабораторией в инсти...</td>\n",
       "      <td>https://briefly.ru/abe/chuzhoe_lico/</td>\n",
       "    </tr>\n",
       "    <tr>\n",
       "      <th>3</th>\n",
       "      <td>Кобо Абэ</td>\n",
       "      <td>Человек-ящик</td>\n",
       "      <td>Человек-ящик, сидя в своём ящике, приступает к...</td>\n",
       "      <td>https://briefly.ru/abe/chelovek-jacshik/</td>\n",
       "    </tr>\n",
       "    <tr>\n",
       "      <th>4</th>\n",
       "      <td>Кобо Абэ</td>\n",
       "      <td>Сожжённая карта</td>\n",
       "      <td>В частное сыскное агентство подано заявление о...</td>\n",
       "      <td>https://briefly.ru/abe/sozhzhennaia_karta/</td>\n",
       "    </tr>\n",
       "  </tbody>\n",
       "</table>\n",
       "</div>"
      ],
      "text/plain": [
       "                           author                               book  \\\n",
       "0  Александр Онисимович Аблесимов  Мельник — колдун, обманщик и сват   \n",
       "1                        Кобо Абэ                   Женщина в песках   \n",
       "2                        Кобо Абэ                         Чужое лицо   \n",
       "3                        Кобо Абэ                       Человек-ящик   \n",
       "4                        Кобо Абэ                    Сожжённая карта   \n",
       "\n",
       "                                                text  \\\n",
       "0  На краю леса перед мельницей мельник Фаддей ст...   \n",
       "1  Однажды в августе человек отправляется в трехд...   \n",
       "2  Исследователь, заведующий лабораторией в инсти...   \n",
       "3  Человек-ящик, сидя в своём ящике, приступает к...   \n",
       "4  В частное сыскное агентство подано заявление о...   \n",
       "\n",
       "                                                 url  \n",
       "0  https://briefly.ru/ablesimov/melnik_koldun_obm...  \n",
       "1        https://briefly.ru/abe/zhencshina_v_peskah/  \n",
       "2               https://briefly.ru/abe/chuzhoe_lico/  \n",
       "3           https://briefly.ru/abe/chelovek-jacshik/  \n",
       "4         https://briefly.ru/abe/sozhzhennaia_karta/  "
      ]
     },
     "execution_count": 3,
     "metadata": {},
     "output_type": "execute_result"
    }
   ],
   "source": [
    "df.head(5)"
   ]
  },
  {
   "cell_type": "markdown",
   "id": "e26e3fcf",
   "metadata": {},
   "source": [
    "## Предобработка данных"
   ]
  },
  {
   "cell_type": "code",
   "execution_count": 4,
   "id": "a7d4849b",
   "metadata": {},
   "outputs": [],
   "source": [
    "def preprocess_df(df):\n",
    "    \n",
    "    df.text = df.text.apply(lambda x: re.sub(r'[^\\w\\s]', ' ', x))\n",
    "    \n",
    "    for index in range(0, len(df)):\n",
    "        result = ''.join((x for x in df[df.index == index].text.values[0] if not x.isdigit()))\n",
    "        result = re.sub(\"_\", \" \", result)\n",
    "        result = re.sub(r'\\s*[A-Za-z]+\\b', '' , result)\n",
    "        result = re.sub(\"\\n\",\" \",result)\n",
    "        df.loc[df.index == index, 'text'] = result\n",
    "    \n",
    "    return df\n",
    "    "
   ]
  },
  {
   "cell_type": "code",
   "execution_count": 5,
   "id": "f97f9104",
   "metadata": {},
   "outputs": [
    {
     "data": {
      "text/html": [
       "<div>\n",
       "<style scoped>\n",
       "    .dataframe tbody tr th:only-of-type {\n",
       "        vertical-align: middle;\n",
       "    }\n",
       "\n",
       "    .dataframe tbody tr th {\n",
       "        vertical-align: top;\n",
       "    }\n",
       "\n",
       "    .dataframe thead th {\n",
       "        text-align: right;\n",
       "    }\n",
       "</style>\n",
       "<table border=\"1\" class=\"dataframe\">\n",
       "  <thead>\n",
       "    <tr style=\"text-align: right;\">\n",
       "      <th></th>\n",
       "      <th>author</th>\n",
       "      <th>book</th>\n",
       "      <th>text</th>\n",
       "      <th>url</th>\n",
       "    </tr>\n",
       "  </thead>\n",
       "  <tbody>\n",
       "    <tr>\n",
       "      <th>0</th>\n",
       "      <td>Александр Онисимович Аблесимов</td>\n",
       "      <td>Мельник — колдун, обманщик и сват</td>\n",
       "      <td>На краю леса перед мельницей мельник Фаддей ст...</td>\n",
       "      <td>https://briefly.ru/ablesimov/melnik_koldun_obm...</td>\n",
       "    </tr>\n",
       "    <tr>\n",
       "      <th>1</th>\n",
       "      <td>Кобо Абэ</td>\n",
       "      <td>Женщина в песках</td>\n",
       "      <td>Однажды в августе человек отправляется в трехд...</td>\n",
       "      <td>https://briefly.ru/abe/zhencshina_v_peskah/</td>\n",
       "    </tr>\n",
       "    <tr>\n",
       "      <th>2</th>\n",
       "      <td>Кобо Абэ</td>\n",
       "      <td>Чужое лицо</td>\n",
       "      <td>Исследователь  заведующий лабораторией в инсти...</td>\n",
       "      <td>https://briefly.ru/abe/chuzhoe_lico/</td>\n",
       "    </tr>\n",
       "    <tr>\n",
       "      <th>3</th>\n",
       "      <td>Кобо Абэ</td>\n",
       "      <td>Человек-ящик</td>\n",
       "      <td>Человек ящик  сидя в своём ящике  приступает к...</td>\n",
       "      <td>https://briefly.ru/abe/chelovek-jacshik/</td>\n",
       "    </tr>\n",
       "    <tr>\n",
       "      <th>4</th>\n",
       "      <td>Кобо Абэ</td>\n",
       "      <td>Сожжённая карта</td>\n",
       "      <td>В частное сыскное агентство подано заявление о...</td>\n",
       "      <td>https://briefly.ru/abe/sozhzhennaia_karta/</td>\n",
       "    </tr>\n",
       "    <tr>\n",
       "      <th>5</th>\n",
       "      <td>Аввакум</td>\n",
       "      <td>Житие протопопа Аввакума</td>\n",
       "      <td>Протопоп Аввакум написал житие по благословени...</td>\n",
       "      <td>https://briefly.ru/avvakum/zhitie_protopopa_av...</td>\n",
       "    </tr>\n",
       "    <tr>\n",
       "      <th>6</th>\n",
       "      <td>Аркадий Тимофеевич Аверченко</td>\n",
       "      <td>Дюжина ножей в спину революции</td>\n",
       "      <td>ПредисловиеЗдесь автор обосновывает мысль  что...</td>\n",
       "      <td>https://briefly.ru/averchenko/diuzhina_nozhei/</td>\n",
       "    </tr>\n",
       "    <tr>\n",
       "      <th>7</th>\n",
       "      <td>Дмитрий Гаврилович Агарунов</td>\n",
       "      <td>Бизнес в стиле Ж***</td>\n",
       "      <td>Реальный бизнес далёк от того  чтобы быть непр...</td>\n",
       "      <td>https://briefly.ru/agarunov/biznes_v_stile_zh/</td>\n",
       "    </tr>\n",
       "    <tr>\n",
       "      <th>8</th>\n",
       "      <td>Алесь Адамович</td>\n",
       "      <td>Каратели</td>\n",
       "      <td>Действие происходит во время Великой Отечестве...</td>\n",
       "      <td>https://briefly.ru/adamovich/karateli/</td>\n",
       "    </tr>\n",
       "    <tr>\n",
       "      <th>9</th>\n",
       "      <td>Ицхак Калдерон Адизес</td>\n",
       "      <td>Идеальный руководитель</td>\n",
       "      <td>Не Я  а командаВсе знают легенды бизнеса  кино...</td>\n",
       "      <td>https://briefly.ru/adizes/idealnyy_rukovoditel/</td>\n",
       "    </tr>\n",
       "  </tbody>\n",
       "</table>\n",
       "</div>"
      ],
      "text/plain": [
       "                           author                               book  \\\n",
       "0  Александр Онисимович Аблесимов  Мельник — колдун, обманщик и сват   \n",
       "1                        Кобо Абэ                   Женщина в песках   \n",
       "2                        Кобо Абэ                         Чужое лицо   \n",
       "3                        Кобо Абэ                       Человек-ящик   \n",
       "4                        Кобо Абэ                    Сожжённая карта   \n",
       "5                         Аввакум           Житие протопопа Аввакума   \n",
       "6    Аркадий Тимофеевич Аверченко     Дюжина ножей в спину революции   \n",
       "7     Дмитрий Гаврилович Агарунов                Бизнес в стиле Ж***   \n",
       "8                  Алесь Адамович                           Каратели   \n",
       "9           Ицхак Калдерон Адизес             Идеальный руководитель   \n",
       "\n",
       "                                                text  \\\n",
       "0  На краю леса перед мельницей мельник Фаддей ст...   \n",
       "1  Однажды в августе человек отправляется в трехд...   \n",
       "2  Исследователь  заведующий лабораторией в инсти...   \n",
       "3  Человек ящик  сидя в своём ящике  приступает к...   \n",
       "4  В частное сыскное агентство подано заявление о...   \n",
       "5  Протопоп Аввакум написал житие по благословени...   \n",
       "6  ПредисловиеЗдесь автор обосновывает мысль  что...   \n",
       "7  Реальный бизнес далёк от того  чтобы быть непр...   \n",
       "8  Действие происходит во время Великой Отечестве...   \n",
       "9  Не Я  а командаВсе знают легенды бизнеса  кино...   \n",
       "\n",
       "                                                 url  \n",
       "0  https://briefly.ru/ablesimov/melnik_koldun_obm...  \n",
       "1        https://briefly.ru/abe/zhencshina_v_peskah/  \n",
       "2               https://briefly.ru/abe/chuzhoe_lico/  \n",
       "3           https://briefly.ru/abe/chelovek-jacshik/  \n",
       "4         https://briefly.ru/abe/sozhzhennaia_karta/  \n",
       "5  https://briefly.ru/avvakum/zhitie_protopopa_av...  \n",
       "6     https://briefly.ru/averchenko/diuzhina_nozhei/  \n",
       "7     https://briefly.ru/agarunov/biznes_v_stile_zh/  \n",
       "8             https://briefly.ru/adamovich/karateli/  \n",
       "9    https://briefly.ru/adizes/idealnyy_rukovoditel/  "
      ]
     },
     "execution_count": 5,
     "metadata": {},
     "output_type": "execute_result"
    }
   ],
   "source": [
    "df = preprocess_df(df)\n",
    "df.head(10)"
   ]
  },
  {
   "cell_type": "markdown",
   "id": "a118105c",
   "metadata": {},
   "source": [
    "## Поиск ближайших твитов"
   ]
  },
  {
   "cell_type": "code",
   "execution_count": 6,
   "id": "bd5b05f9",
   "metadata": {},
   "outputs": [],
   "source": [
    "import string\n",
    "from pymorphy2 import MorphAnalyzer\n",
    "from stop_words import get_stop_words\n",
    "import annoy\n",
    "from gensim.models import Word2Vec, FastText"
   ]
  },
  {
   "cell_type": "code",
   "execution_count": 7,
   "id": "37901032",
   "metadata": {},
   "outputs": [],
   "source": [
    "# Препроцессинг текста\n",
    "\n",
    "def preprocess_txt(line):\n",
    "    line = re.sub(r'RT*', '', line)\n",
    "    line = re.sub(r'@[\\w]*', ' ', line)\n",
    "    spls = \"\".join(i for i in line.strip() if i not in exclude).split()\n",
    "    spls = [morpher.parse(i.lower())[0].normal_form for i in spls]\n",
    "    spls = [i for i in spls if i not in sw and i != \"\"]\n",
    "    return spls"
   ]
  },
  {
   "cell_type": "code",
   "execution_count": 8,
   "id": "8171e124",
   "metadata": {},
   "outputs": [],
   "source": [
    "assert True\n",
    "\n",
    "sentences = []\n",
    "\n",
    "morpher = MorphAnalyzer()\n",
    "sw = set(get_stop_words(\"ru\"))\n",
    "exclude = set(string.punctuation)\n",
    "\n",
    "for line in df['text']:\n",
    "    spls = preprocess_txt(line)\n",
    "    sentences.append(spls)"
   ]
  },
  {
   "cell_type": "code",
   "execution_count": 9,
   "id": "f039e069",
   "metadata": {},
   "outputs": [],
   "source": [
    "sentences = [i for i in sentences if len(i) > 2]"
   ]
  },
  {
   "cell_type": "code",
   "execution_count": null,
   "id": "7a1039f2",
   "metadata": {},
   "outputs": [],
   "source": [
    "modelW2V = Word2Vec(sentences=sentences, vector_size=300, window=5, min_count=1)\n",
    "modelFT = FastText(sentences=sentences, vector_size=300, min_count=1, window=5, workers=8)"
   ]
  },
  {
   "cell_type": "code",
   "execution_count": null,
   "id": "34c8d3da",
   "metadata": {},
   "outputs": [],
   "source": [
    "w2v_index = annoy.AnnoyIndex(300 ,'angular')\n",
    "ft_index = annoy.AnnoyIndex(300 ,'angular')\n",
    "\n",
    "counter = 0\n",
    "index_map = {}\n",
    "\n",
    "for line in df['text']:\n",
    "    n_w2v = 0\n",
    "    n_ft = 0\n",
    "    index_map[counter] = line\n",
    "    tweet = preprocess_txt(line)\n",
    "    \n",
    "    vector_w2v = np.zeros(300)\n",
    "    vector_ft = np.zeros(300)\n",
    "    for word in tweet:\n",
    "        if word in modelW2V.wv:\n",
    "            vector_w2v += modelW2V.wv[word]\n",
    "            n_w2v += 1\n",
    "        if word in modelFT.wv:\n",
    "            vector_ft += modelFT.wv[word]\n",
    "            n_ft += 1\n",
    "    if n_w2v > 0:\n",
    "        vector_w2v = vector_w2v / n_w2v\n",
    "    if n_ft > 0:\n",
    "        vector_ft = vector_ft / n_ft\n",
    "    w2v_index.add_item(counter, vector_w2v)\n",
    "    ft_index.add_item(counter, vector_ft)\n",
    "    counter += 1\n",
    "\n",
    "    if counter > 100000:\n",
    "        break\n",
    "\n",
    "w2v_index.build(10)\n",
    "ft_index.build(10)"
   ]
  },
  {
   "cell_type": "code",
   "execution_count": null,
   "id": "d5673096",
   "metadata": {},
   "outputs": [],
   "source": [
    "def get_response(question, index, model, index_map):\n",
    "    question = preprocess_txt(question)\n",
    "    vector = np.zeros(300)\n",
    "    norm = 0\n",
    "    for word in question:\n",
    "        if word in model.wv:\n",
    "            vector += model.wv[word]\n",
    "            norm += 1\n",
    "    if norm > 0:\n",
    "        vector = vector / norm\n",
    "    answers = index.get_nns_by_vector(vector, 5, )\n",
    "    return [index_map[i] for i in answers]"
   ]
  },
  {
   "cell_type": "code",
   "execution_count": 13,
   "id": "385ca20e",
   "metadata": {},
   "outputs": [],
   "source": [
    "TEXT = \"всем хорошего дня!\""
   ]
  },
  {
   "cell_type": "code",
   "execution_count": 14,
   "id": "73be1bae",
   "metadata": {},
   "outputs": [
    {
     "data": {
      "text/plain": [
       "['  Сегодня хороший день',\n",
       " ' хорошего тебе дня',\n",
       " '  Они лучшие ',\n",
       " ' и тебе  и тебе   хорошего дня',\n",
       " ' спасибо моя хорошая ']"
      ]
     },
     "execution_count": 14,
     "metadata": {},
     "output_type": "execute_result"
    }
   ],
   "source": [
    "get_response(TEXT, w2v_index, modelW2V, index_map)"
   ]
  },
  {
   "cell_type": "code",
   "execution_count": null,
   "id": "13cd6adf",
   "metadata": {},
   "outputs": [],
   "source": []
  }
 ],
 "metadata": {
  "kernelspec": {
   "display_name": "Python 3 (ipykernel)",
   "language": "python",
   "name": "python3"
  },
  "language_info": {
   "codemirror_mode": {
    "name": "ipython",
    "version": 3
   },
   "file_extension": ".py",
   "mimetype": "text/x-python",
   "name": "python",
   "nbconvert_exporter": "python",
   "pygments_lexer": "ipython3",
   "version": "3.9.7"
  }
 },
 "nbformat": 4,
 "nbformat_minor": 5
}
